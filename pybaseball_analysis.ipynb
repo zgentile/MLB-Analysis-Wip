{
  "nbformat": 4,
  "nbformat_minor": 0,
  "metadata": {
    "colab": {
      "provenance": []
    },
    "kernelspec": {
      "name": "python3",
      "display_name": "Python 3"
    },
    "language_info": {
      "name": "python"
    }
  },
  "cells": [
    {
      "cell_type": "code",
      "execution_count": null,
      "metadata": {
        "id": "xGZOpYT6nvx1"
      },
      "outputs": [],
      "source": [
        "!pip install pybaseball\n",
        "!pip install unidecode"
      ]
    },
    {
      "cell_type": "markdown",
      "source": [
        "Near Future Plans: Create rankings for defense and pitching. Then, make rankings that encompass everything. Experiment with certain stats having different weights."
      ],
      "metadata": {
        "id": "ouvq4UIkBxEV"
      }
    },
    {
      "cell_type": "markdown",
      "source": [
        "# Data Cleaning"
      ],
      "metadata": {
        "id": "O7xAZpZs15zY"
      }
    },
    {
      "cell_type": "code",
      "source": [
        "from unidecode import unidecode"
      ],
      "metadata": {
        "id": "dCwsbVKnyQ4v"
      },
      "execution_count": 3,
      "outputs": []
    },
    {
      "cell_type": "code",
      "source": [
        "# For queries that return data with improper encoding (usually for non english letters)\n",
        "def clean_string_encoding(input_string):\n",
        "  decoded_string = bytes(input_string, 'utf-8').decode('unicode_escape')\n",
        "  encoded_string = decoded_string.encode('latin-1').decode('utf-8')\n",
        "  return encoded_string"
      ],
      "metadata": {
        "id": "lrYiJL-AvvSc"
      },
      "execution_count": 4,
      "outputs": []
    },
    {
      "cell_type": "code",
      "source": [
        "# This deals with any potential inconsistencies between datasets or special markings such as *\n",
        "def clean_names_column(column):\n",
        "  column = column.apply(clean_string_encoding).apply(lambda x:\n",
        "  unidecode(x)\n",
        "  .replace('*', '')\n",
        "  .replace('#', '')\n",
        "  .replace('Jr.', '')\n",
        "  .replace('III', '')\n",
        "  .replace('II', '')\n",
        "  .strip())\n",
        "  return column"
      ],
      "metadata": {
        "id": "qPg95_US03nL"
      },
      "execution_count": 5,
      "outputs": []
    },
    {
      "cell_type": "markdown",
      "source": [
        "# Data Queries"
      ],
      "metadata": {
        "id": "UJDD9XgC8Z0y"
      }
    },
    {
      "cell_type": "code",
      "source": [
        "import pybaseball as pyb"
      ],
      "metadata": {
        "id": "ixS2GrY12gLJ"
      },
      "execution_count": 6,
      "outputs": []
    },
    {
      "cell_type": "markdown",
      "source": [
        "### MLB Draft Data"
      ],
      "metadata": {
        "id": "hjV0S6rMt0U7"
      }
    },
    {
      "cell_type": "markdown",
      "source": [
        "Columns in amateur_draft:\n",
        "\n",
        "```python\n",
        "['Tm', 'Signed', 'Bonus', 'Name', 'Pos', 'WAR', 'G', 'AB', 'HR', 'BA', 'OPS', 'G.1', 'W', 'L', 'ERA', 'WHIP', 'SV', 'Type', 'Drafted Out of', 'MLB']\n",
        "```"
      ],
      "metadata": {
        "id": "ODQA3svu5Sdq"
      }
    },
    {
      "cell_type": "code",
      "source": [
        "def get_draft(year, round):\n",
        "  draft = pyb.amateur_draft(year, round).set_index('OvPck')\n",
        "  draft['Name'] = clean_names_column(draft['Name'])\n",
        "  return draft"
      ],
      "metadata": {
        "id": "O2piIwFRvm6P"
      },
      "execution_count": 7,
      "outputs": []
    },
    {
      "cell_type": "markdown",
      "source": [
        "### Offense Data"
      ],
      "metadata": {
        "id": "F-wjny6N061O"
      }
    },
    {
      "cell_type": "markdown",
      "source": [
        "Columns in batting_stats (fangraphs):\n",
        "\n",
        "```python\n",
        "['Season', 'Team', 'Age', 'G', 'AB', 'PA', 'H', '1B', '2B', '3B', 'HR', 'R', 'RBI', 'BB', 'IBB', 'SO', 'HBP', 'SF', 'SH', 'GDP', 'SB', 'CS', 'AVG', 'GB', 'FB', 'LD', 'IFFB', 'Pitches', 'Balls', 'Strikes', 'IFH', 'BU', 'BUH', 'BB%', 'K%', 'BB/K', 'OBP', 'SLG', 'OPS', 'ISO', 'BABIP', 'GB/FB', 'LD%', 'GB%', 'FB%', 'IFFB%', 'HR/FB', 'IFH%', 'BUH%', 'wOBA', 'wRAA', 'wRC', 'Bat', 'Fld', 'Rep', 'Pos', 'RAR', 'WAR', 'Dol', 'Spd', 'wRC+', 'WPA', '-WPA', '+WPA', 'RE24', 'REW', 'pLI', 'phLI', 'PH', 'WPA/LI', 'Clutch', 'FB% (Pitch)', 'FBv', 'SL%', 'SLv', 'CT%', 'CTv', 'CB%', 'CBv', 'CH%', 'CHv', 'SF%', 'SFv', 'KN%', 'KNv', 'XX%', 'PO%', 'wFB', 'wSL', 'wCT', 'wCB', 'wCH', 'wSF', 'wKN', 'wFB/C', 'wSL/C', 'wCT/C', 'wCB/C', 'wCH/C', 'wSF/C', 'wKN/C', 'O-Swing%', 'Z-Swing%', 'Swing%', 'O-Contact%', 'Z-Contact%', 'Contact%', 'Zone%', 'F-Strike%', 'SwStr%', 'BsR', 'FA% (sc)', 'FT% (sc)', 'FC% (sc)', 'FS% (sc)', 'FO% (sc)', 'SI% (sc)', 'SL% (sc)', 'CU% (sc)', 'KC% (sc)', 'EP% (sc)', 'CH% (sc)', 'SC% (sc)', 'KN% (sc)', 'UN% (sc)', 'vFA (sc)', 'vFT (sc)', 'vFC (sc)', 'vFS (sc)', 'vFO (sc)', 'vSI (sc)', 'vSL (sc)', 'vCU (sc)', 'vKC (sc)', 'vEP (sc)', 'vCH (sc)', 'vSC (sc)', 'vKN (sc)', 'FA-X (sc)', 'FT-X (sc)', 'FC-X (sc)', 'FS-X (sc)', 'FO-X (sc)', 'SI-X (sc)', 'SL-X (sc)', 'CU-X (sc)', 'KC-X (sc)', 'EP-X (sc)', 'CH-X (sc)', 'SC-X (sc)', 'KN-X (sc)', 'FA-Z (sc)', 'FT-Z (sc)', 'FC-Z (sc)', 'FS-Z (sc)', 'FO-Z (sc)', 'SI-Z (sc)', 'SL-Z (sc)', 'CU-Z (sc)', 'KC-Z (sc)', 'EP-Z (sc)', 'CH-Z (sc)', 'SC-Z (sc)', 'KN-Z (sc)', 'wFA (sc)', 'wFT (sc)', 'wFC (sc)', 'wFS (sc)', 'wFO (sc)', 'wSI (sc)', 'wSL (sc)', 'wCU (sc)', 'wKC (sc)', 'wEP (sc)', 'wCH (sc)', 'wSC (sc)', 'wKN (sc)', 'wFA/C (sc)', 'wFT/C (sc)', 'wFC/C (sc)', 'wFS/C (sc)', 'wFO/C (sc)', 'wSI/C (sc)', 'wSL/C (sc)', 'wCU/C (sc)', 'wKC/C (sc)', 'wEP/C (sc)', 'wCH/C (sc)', 'wSC/C (sc)', 'wKN/C (sc)', 'O-Swing% (sc)', 'Z-Swing% (sc)', 'Swing% (sc)', 'O-Contact% (sc)', 'Z-Contact% (sc)', 'Contact% (sc)', 'Zone% (sc)', 'Pace', 'Def', 'wSB', 'UBR', 'Age Rng', 'Off', 'Lg', 'wGDP', 'Pull%', 'Cent%', 'Oppo%', 'Soft%', 'Med%', 'Hard%', 'TTO%', 'CH% (pi)', 'CS% (pi)', 'CU% (pi)', 'FA% (pi)', 'FC% (pi)', 'FS% (pi)', 'KN% (pi)', 'SB% (pi)', 'SI% (pi)', 'SL% (pi)', 'XX% (pi)', 'vCH (pi)', 'vCS (pi)', 'vCU (pi)', 'vFA (pi)', 'vFC (pi)', 'vFS (pi)', 'vKN (pi)', 'vSB (pi)', 'vSI (pi)', 'vSL (pi)', 'vXX (pi)', 'CH-X (pi)', 'CS-X (pi)', 'CU-X (pi)', 'FA-X (pi)', 'FC-X (pi)', 'FS-X (pi)', 'KN-X (pi)', 'SB-X (pi)', 'SI-X (pi)', 'SL-X (pi)', 'XX-X (pi)', 'CH-Z (pi)', 'CS-Z (pi)', 'CU-Z (pi)', 'FA-Z (pi)', 'FC-Z (pi)', 'FS-Z (pi)', 'KN-Z (pi)', 'SB-Z (pi)', 'SI-Z (pi)', 'SL-Z (pi)', 'XX-Z (pi)', 'wCH (pi)', 'wCS (pi)', 'wCU (pi)', 'wFA (pi)', 'wFC (pi)', 'wFS (pi)', 'wKN (pi)', 'wSB (pi)', 'wSI (pi)', 'wSL (pi)', 'wXX (pi)', 'wCH/C (pi)', 'wCS/C (pi)', 'wCU/C (pi)', 'wFA/C (pi)', 'wFC/C (pi)', 'wFS/C (pi)', 'wKN/C (pi)', 'wSB/C (pi)', 'wSI/C (pi)', 'wSL/C (pi)', 'wXX/C (pi)', 'O-Swing% (pi)', 'Z-Swing% (pi)', 'Swing% (pi)', 'O-Contact% (pi)', 'Z-Contact% (pi)', 'Contact% (pi)', 'Zone% (pi)', 'Pace (pi)', 'FRM', 'AVG+', 'BB%+', 'K%+', 'OBP+', 'SLG+', 'ISO+', 'BABIP+', 'LD+%', 'GB%+', 'FB%+', 'HR/FB%+', 'Pull%+', 'Cent%+', 'Oppo%+', 'Soft%+', 'Med%+', 'Hard%+', 'EV', 'LA', 'Barrels', 'Barrel%', 'maxEV', 'HardHit', 'HardHit%', 'Events', 'CStr%', 'CSW%', 'xBA', 'xSLG', 'xwOBA', 'L-WAR']\n",
        "\n",
        " ```"
      ],
      "metadata": {
        "id": "lyVVW7UWy-uh"
      }
    },
    {
      "cell_type": "code",
      "source": [
        "def get_offense(year):\n",
        "  offense = pyb.batting_stats(year).set_index('Name').drop('IDfg', axis=1).sort_index()\n",
        "  return offense"
      ],
      "metadata": {
        "id": "bMlrkYlfo8TI"
      },
      "execution_count": 4,
      "outputs": []
    },
    {
      "cell_type": "markdown",
      "source": [
        "# Data Analysis"
      ],
      "metadata": {
        "id": "v9qFHN2d9KTR"
      }
    },
    {
      "cell_type": "code",
      "source": [
        "from math import trunc"
      ],
      "metadata": {
        "id": "hx2AgEgHxLQr"
      },
      "execution_count": 19,
      "outputs": []
    },
    {
      "cell_type": "code",
      "source": [
        "from scipy.stats import zscore"
      ],
      "metadata": {
        "id": "N6kfhJTRsffn"
      },
      "execution_count": 11,
      "outputs": []
    },
    {
      "cell_type": "markdown",
      "source": [
        "### MLB Draft Data"
      ],
      "metadata": {
        "id": "00JUXNcx9dvD"
      }
    },
    {
      "cell_type": "markdown",
      "source": [
        "##### Functions"
      ],
      "metadata": {
        "id": "sBm4vsN7A28I"
      }
    },
    {
      "cell_type": "code",
      "source": [
        "# This returns only players with MLB experience\n",
        "def made_mlb(draft):\n",
        "  draft['MLB'] = ['Y' if x else 'N' for x in draft['G'].notnull()]\n",
        "  return draft[['Name', 'Tm', 'MLB']]"
      ],
      "metadata": {
        "id": "ojFi95zDt-Gi"
      },
      "execution_count": 11,
      "outputs": []
    },
    {
      "cell_type": "markdown",
      "source": [
        "##### Application"
      ],
      "metadata": {
        "id": "O1sIlZJ8A9iV"
      }
    },
    {
      "cell_type": "code",
      "source": [
        "data = made_mlb(get_draft(2003, 4))\n",
        "data"
      ],
      "metadata": {
        "id": "_6KdH4XowG4I"
      },
      "execution_count": null,
      "outputs": []
    },
    {
      "cell_type": "markdown",
      "source": [
        "### Offense Data"
      ],
      "metadata": {
        "id": "fwDo_Wat_KSW"
      }
    },
    {
      "cell_type": "markdown",
      "source": [
        "##### Functions"
      ],
      "metadata": {
        "id": "E1KlJVcjBI7_"
      }
    },
    {
      "cell_type": "code",
      "source": [
        "# If you want to use K%, this makes it so the higher the value, the better\n",
        "def inv_k_pct(df):\n",
        "  df['invK%'] = 1 - df['K%']"
      ],
      "metadata": {
        "id": "KJNdh_yGt_8F"
      },
      "execution_count": 1,
      "outputs": []
    },
    {
      "cell_type": "code",
      "source": [
        "# Turns every applicable value into its zscore for its column\n",
        "def apply_zscore(df, features: list):\n",
        "  df_z = df.copy()[features]\n",
        "\n",
        "  for col in df_z.columns:\n",
        "    if df_z[col].dtype != object:\n",
        "      df_z[col] = list(zscore(df_z[col]))\n",
        "  return df_z\n",
        "\n",
        "# Maps each player to their average zscore\n",
        "def assign_zscores(df, features: list):\n",
        "  return apply_zscore(df, features).mean(1).to_dict()\n",
        "\n",
        "# Creates and prints a ranked list of players in order of their average zscore\n",
        "def make_rankings(zscores: dict, features):\n",
        "  player_rankings = sorted([(player, zscores[player]) for player in zscores], key=lambda x: x[1], reverse=True)\n",
        "  scores = []\n",
        "  print(f'Players are rated on where they stand compared to the averages of the following: {features}')\n",
        "  for idx, tup in enumerate(player_rankings):\n",
        "    print(f'{idx + 1}: {tup[0]} - {trunc(tup[1] * 100)}')\n",
        "    scores.append(trunc(tup[1] * 100))\n",
        "\n",
        "# Currently the final scores are a player's average zscore across different features times 100"
      ],
      "metadata": {
        "id": "prWOqf7gttQz"
      },
      "execution_count": 47,
      "outputs": []
    },
    {
      "cell_type": "markdown",
      "source": [
        "###### Application"
      ],
      "metadata": {
        "id": "KJbnVMSwBMGg"
      }
    },
    {
      "cell_type": "code",
      "source": [
        "offense_data = get_offense(2023)"
      ],
      "metadata": {
        "id": "UCACt4jHq6jC"
      },
      "execution_count": 25,
      "outputs": []
    },
    {
      "cell_type": "code",
      "source": [
        "features = ['Clutch', 'BABIP', 'OPS'] # This is an arbitrary selection\n",
        "# Next step: create a GUI to select features (there are so many!), for now, all features are listed in query section"
      ],
      "metadata": {
        "id": "rXvQVBX-tRZL"
      },
      "execution_count": 48,
      "outputs": []
    },
    {
      "cell_type": "code",
      "source": [
        "player_scores = assign_zscores(offense_data, features)\n",
        "# player_scores"
      ],
      "metadata": {
        "id": "WfypMzfMwPLT"
      },
      "execution_count": 51,
      "outputs": []
    },
    {
      "cell_type": "code",
      "source": [
        "make_rankings(player_scores, features)"
      ],
      "metadata": {
        "id": "UJRH5VaIw8k6",
        "colab": {
          "base_uri": "https://localhost:8080/"
        },
        "outputId": "e5cefdd5-11bb-4bca-d8a3-d1ef458b8915"
      },
      "execution_count": 50,
      "outputs": [
        {
          "output_type": "stream",
          "name": "stdout",
          "text": [
            "Players are rated on where they stand compared to the averages of the following: ['Clutch', 'BABIP', 'OPS']\n",
            "1: Bryce Harper - 192\n",
            "2: Ronald Acuna Jr. - 183\n",
            "3: Yandy Diaz - 164\n",
            "4: Corey Seager - 159\n",
            "5: Corbin Carroll - 121\n",
            "6: Freddie Freeman - 112\n",
            "7: Shohei Ohtani - 96\n",
            "8: T.J. Friedl - 88\n",
            "9: James Outman - 82\n",
            "10: Mookie Betts - 82\n",
            "11: Luis Arraez - 81\n",
            "12: Ezequiel Tovar - 80\n",
            "13: Christian Yelich - 77\n",
            "14: Bo Bichette - 74\n",
            "15: Matt Olson - 72\n",
            "16: Anthony Santander - 71\n",
            "17: J.P. Crawford - 67\n",
            "18: Kyle Tucker - 64\n",
            "19: Elias Diaz - 63\n",
            "20: Luis Robert - 59\n",
            "21: Michael Harris II - 59\n",
            "22: Seiya Suzuki - 57\n",
            "23: Joey Meneses - 56\n",
            "24: Jorge Soler - 55\n",
            "25: Justin Turner - 52\n",
            "26: Lane Thomas - 51\n",
            "27: Austin Riley - 51\n",
            "28: William Contreras - 49\n",
            "29: Ozzie Albies - 49\n",
            "30: Nick Castellanos - 46\n",
            "31: Jeimer Candelario - 44\n",
            "32: Jose Ramirez - 44\n",
            "33: Cody Bellinger - 43\n",
            "34: Bryson Stott - 42\n",
            "35: Adley Rutschman - 42\n",
            "36: Ian Happ - 39\n",
            "37: Mark Canha - 36\n",
            "38: Eddie Rosario - 36\n",
            "39: Nathaniel Lowe - 32\n",
            "40: Brent Rooker - 29\n",
            "41: Ketel Marte - 27\n",
            "42: Brandon Nimmo - 25\n",
            "43: J.D. Davis - 24\n",
            "44: Rafael Devers - 23\n",
            "45: Josh Jung - 23\n",
            "46: Paul Goldschmidt - 22\n",
            "47: Austin Hays - 21\n",
            "48: Andrew Benintendi - 21\n",
            "49: Julio Rodriguez - 20\n",
            "50: Juan Soto - 20\n",
            "51: Randy Arozarena - 17\n",
            "52: Gunnar Henderson - 14\n",
            "53: Nico Hoerner - 13\n",
            "54: Bryan De La Cruz - 13\n",
            "55: Ryan McMahon - 13\n",
            "56: Whit Merrifield - 10\n",
            "57: Marcell Ozuna - 8\n",
            "58: Ke'Bryan Hayes - 7\n",
            "59: MJ Melendez - 6\n",
            "60: Christian Walker - 4\n",
            "61: Bryan Reynolds - 3\n",
            "62: Brandon Drury - 0\n",
            "63: Fernando Tatis Jr. - 0\n",
            "64: Lars Nootbaar - 0\n",
            "65: Maikel Garcia - 0\n",
            "66: Trea Turner - -1\n",
            "67: Orlando Arcia - -1\n",
            "68: Alex Bregman - -1\n",
            "69: Steven Kwan - -1\n",
            "70: Eugenio Suarez - -2\n",
            "71: Jake Burger - -5\n",
            "72: Ha-seong Kim - -6\n",
            "73: Spencer Steer - -6\n",
            "74: Lourdes Gurriel Jr. - -12\n",
            "75: Vladimir Guerrero Jr. - -15\n",
            "76: LaMonte Wade Jr. - -15\n",
            "77: Andrew Vaughn - -16\n",
            "78: Jeff McNeil - -17\n",
            "79: Adolis Garcia - -19\n",
            "80: Teoscar Hernandez - -19\n",
            "81: Alec Bohm - -22\n",
            "82: Matt Vierling - -23\n",
            "83: Amed Rosario - -24\n",
            "84: Alex Verdugo - -25\n",
            "85: Masataka Yoshida - -27\n",
            "86: DJ LeMahieu - -27\n",
            "87: Tommy Edman - -27\n",
            "88: George Springer - -28\n",
            "89: Nolan Arenado - -28\n",
            "90: Xander Bogaerts - -29\n",
            "91: Bobby Witt Jr. - -29\n",
            "92: Leody Taveras - -34\n",
            "93: Dominic Smith - -35\n",
            "94: Javier Baez - -36\n",
            "95: Carlos Santana - -38\n",
            "96: Thairo Estrada - -40\n",
            "97: Marcus Semien - -41\n",
            "98: Gleyber Torres - -42\n",
            "99: Matt Chapman - -43\n",
            "100: Jack Suwinski - -44\n",
            "101: Francisco Lindor - -47\n",
            "102: Josh Bell - -48\n",
            "103: Jurickson Profar - -48\n",
            "104: Andres Gimenez - -48\n",
            "105: Tyler Stephenson - -50\n",
            "106: Keibert Ruiz - -52\n",
            "107: Dansby Swanson - -53\n",
            "108: Hunter Renfroe - -55\n",
            "109: Jonathan India - -59\n",
            "110: Isaac Paredes - -59\n",
            "111: J.T. Realmuto - -60\n",
            "112: Salvador Perez - -63\n",
            "113: Jose Abreu - -64\n",
            "114: Ty France - -65\n",
            "115: Manny Machado - -65\n",
            "116: Enrique Hernandez - -67\n",
            "117: Max Muncy - -70\n",
            "118: Zach McKinstry - -71\n",
            "119: Will Smith - -75\n",
            "120: Jeremy Pena - -76\n",
            "121: CJ Abrams - -77\n",
            "122: Cal Raleigh - -79\n",
            "123: Willy Adames - -84\n",
            "124: Kyle Schwarber - -87\n",
            "125: Anthony Volpe - -87\n",
            "126: Spencer Torkelson - -88\n",
            "127: Tim Anderson - -91\n",
            "128: Jake Cronenworth - -94\n",
            "129: Carlos Correa - -99\n",
            "130: Daulton Varsho - -102\n",
            "131: Pete Alonso - -113\n",
            "132: Myles Straw - -126\n",
            "133: Trent Grisham - -132\n"
          ]
        }
      ]
    }
  ]
}